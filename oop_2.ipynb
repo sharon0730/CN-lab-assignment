{
  "cells": [
    {
      "cell_type": "markdown",
      "metadata": {
        "id": "view-in-github",
        "colab_type": "text"
      },
      "source": [
        "<a href=\"https://colab.research.google.com/github/kaps04/CN-lab-assignment/blob/main/oop_2.ipynb\" target=\"_parent\"><img src=\"https://colab.research.google.com/assets/colab-badge.svg\" alt=\"Open In Colab\"/></a>"
      ]
    },
    {
      "cell_type": "markdown",
      "metadata": {
        "id": "ywojEhGC58hB"
      },
      "source": [
        "Difference between parameters and arguments?"
      ]
    },
    {
      "cell_type": "code",
      "execution_count": 1,
      "metadata": {
        "id": "gOCCPJ9e58hC",
        "outputId": "84bf2ce0-5349-4595-9f8b-51b1aab8d8c6",
        "colab": {
          "base_uri": "https://localhost:8080/"
        }
      },
      "outputs": [
        {
          "output_type": "stream",
          "name": "stdout",
          "text": [
            "5\n"
          ]
        }
      ],
      "source": [
        "def add(a, b): # a, b parameters\n",
        "    return a + b\n",
        "result = add(2, 3) # 2,3 arguments\n",
        "print(result)"
      ]
    },
    {
      "cell_type": "markdown",
      "metadata": {
        "id": "MLt_A0Lg58hD"
      },
      "source": [
        "# OOP 2"
      ]
    },
    {
      "cell_type": "markdown",
      "metadata": {
        "vscode": {
          "languageId": "plaintext"
        },
        "id": "M9OIM7Ux58hD"
      },
      "source": [
        "## Class attribute and Instance attribute\n",
        "\n",
        "**Class Attribute**: Class attributes are shared across all instances of the class\n",
        "\n",
        "**Instance Attribute**: Instance attributes are unique to each instance of the class."
      ]
    },
    {
      "cell_type": "code",
      "execution_count": null,
      "metadata": {
        "id": "Gi62Suua58hD",
        "outputId": "8088cb0e-d150-4dbc-e0bc-7dd9a9592fd4"
      },
      "outputs": [
        {
          "name": "stdout",
          "output_type": "stream",
          "text": [
            "Accessing the class attributes\n",
            "Animal head: 1\n",
            "Animal head: 1\n",
            "Accessing the Instance attributes\n",
            "Animal legs: 4\n",
            "Animal class: Mammals\n"
          ]
        }
      ],
      "source": [
        "class Animal:\n",
        "    head = 1        # Class Attribute\n",
        "\n",
        "    def __init__(self, legs : int = 4, animal_class : str = 'Mammals') -> None:\n",
        "        self.legs = legs                            # Instance Attribute\n",
        "        self.animal_class = animal_class            # Instance Attribute\n",
        "\n",
        "animal1 = Animal()\n",
        "print('Accessing the class attributes')\n",
        "print(f'Animal head: {Animal.head}') # Accessing from class\n",
        "print(f'Animal head: {animal1.head}') # Accessing from object\n",
        "\n",
        "print('Accessing the Instance attributes')\n",
        "# Also Try to access from class below\n",
        "print(f'Animal legs: {animal1.legs}') # Accessing from object\n",
        "print(f'Animal class: {animal1.animal_class}')"
      ]
    },
    {
      "cell_type": "code",
      "execution_count": null,
      "metadata": {
        "id": "bDrXHByY58hE",
        "outputId": "fc9881fb-441b-43f2-a526-3d5235deedb1"
      },
      "outputs": [
        {
          "name": "stdout",
          "output_type": "stream",
          "text": [
            "Animal head: 1\n",
            "Animal head: 2\n",
            "Animal legs: 2\n",
            "Animal class: Human\n"
          ]
        }
      ],
      "source": [
        "animal1.head = 2 # Changes made from object is kept within object but not in class\n",
        "print(f'Animal head: {Animal.head}') # Accessing from class\n",
        "print(f'Animal head: {animal1.head}') # Accessing from object\n",
        "\n",
        "animal1.legs = 2\n",
        "animal1.animal_class = 'Human'\n",
        "\n",
        "print(f'Animal legs: {animal1.legs}') # Accessing from object\n",
        "print(f'Animal class: {animal1.animal_class}')"
      ]
    },
    {
      "cell_type": "code",
      "execution_count": null,
      "metadata": {
        "id": "c_uFYUwn58hE",
        "outputId": "4192baaa-86c0-4e73-986d-f99c0d6c2828"
      },
      "outputs": [
        {
          "name": "stdout",
          "output_type": "stream",
          "text": [
            "<class '__main__.Animal'>\n",
            "<__main__.Animal object at 0x71c9fff2fa40>\n",
            "Animal head: 1\n",
            "\n",
            "Accessing the instance attributes:\n",
            "Animal legs: 2\n",
            "Animal class: Birds\n"
          ]
        }
      ],
      "source": [
        "animal2 = Animal(legs = 2, animal_class = 'Birds')\n",
        "print(Animal)\n",
        "print(animal2)\n",
        "print(f'Animal head: {animal2.head}')\n",
        "\n",
        "print('\\nAccessing the instance attributes:')\n",
        "print(f'Animal legs: {animal2.legs}')\n",
        "print(f'Animal class: {animal2.animal_class}')\n"
      ]
    },
    {
      "cell_type": "markdown",
      "metadata": {
        "id": "65WYe5UO58hE"
      },
      "source": [
        "## Organization"
      ]
    },
    {
      "cell_type": "code",
      "execution_count": null,
      "metadata": {
        "id": "5AEZSsQC58hE"
      },
      "outputs": [],
      "source": [
        "# Let's view from directory"
      ]
    },
    {
      "cell_type": "markdown",
      "metadata": {
        "id": "htUiB10P58hF"
      },
      "source": [
        "## What is self? When to use?"
      ]
    },
    {
      "cell_type": "markdown",
      "metadata": {
        "id": "smXjlcek58hF"
      },
      "source": [
        "`self` refers to instance of the `class`. It binds the attributes with the given arguments. `self` is used to access the instance within the instance method.\n",
        "\n",
        "**`self` in Methods**: When you define methods within a class, self is the first parameter, which refers to the instance calling the method.\n",
        "\n",
        "Whenever you call a method of an object created from a class, the object is automatically passed as the first argument using the “self” parameter."
      ]
    },
    {
      "cell_type": "markdown",
      "metadata": {
        "id": "GJFrTus458hF"
      },
      "source": [
        "### self is the pointer of Current Object"
      ]
    },
    {
      "cell_type": "code",
      "execution_count": 2,
      "metadata": {
        "id": "0sFM9ioa58hF",
        "outputId": "889b875e-13b2-4781-a5f2-48e5fdefe1ce",
        "colab": {
          "base_uri": "https://localhost:8080/"
        }
      },
      "outputs": [
        {
          "output_type": "stream",
          "name": "stdout",
          "text": [
            "Address of self =  134284601600000\n",
            "Address of class object =  134284601600000\n"
          ]
        }
      ],
      "source": [
        "class Check:\n",
        "    def __init__(self):\n",
        "        print(\"Address of self = \",id(self))\n",
        "\n",
        "obj = Check()\n",
        "print(\"Address of class object = \",id(obj))"
      ]
    },
    {
      "cell_type": "markdown",
      "metadata": {
        "id": "UnHmfnQR58hF"
      },
      "source": [
        "### self Explanantion"
      ]
    },
    {
      "cell_type": "code",
      "execution_count": 3,
      "metadata": {
        "id": "YSPU433I58hF",
        "outputId": "0d53f42f-5411-4158-8754-be6a6109d371",
        "colab": {
          "base_uri": "https://localhost:8080/"
        }
      },
      "outputs": [
        {
          "output_type": "stream",
          "name": "stdout",
          "text": [
            "Model is Lambo\n",
            "color is Black\n",
            "Model for lamborgini is  Lambo\n"
          ]
        }
      ],
      "source": [
        "class Car():\n",
        "    def __init__(self, model, color):\n",
        "        self.model = model\n",
        "        self.color = color\n",
        "\n",
        "    def show(self):\n",
        "        print(\"Model is\", self.model )\n",
        "        print(\"color is\", self.color )\n",
        "\n",
        "lambo = Car('Lambo', 'Black')\n",
        "lambo.show() # Car.show(lambo)\n",
        "print(\"Model for lamborgini is \",lambo.model)"
      ]
    },
    {
      "cell_type": "markdown",
      "metadata": {
        "id": "q2YJhVii58hG"
      },
      "source": [
        "### self in constructor and methods"
      ]
    },
    {
      "cell_type": "code",
      "execution_count": 11,
      "metadata": {
        "id": "njNYaZW358hG",
        "outputId": "5ff38c6f-b228-4503-cddf-1d360539c802",
        "colab": {
          "base_uri": "https://localhost:8080/"
        }
      },
      "outputs": [
        {
          "output_type": "stream",
          "name": "stdout",
          "text": [
            "This is Constructor\n",
            "Worked fine\n"
          ]
        }
      ],
      "source": [
        "class Check:\n",
        "    def __init__(self):\n",
        "        print(\"This is Constructor\")\n",
        "\n",
        "    def letsgo():\n",
        "        pass\n",
        "\n",
        "object = Check()\n",
        "print(\"Worked fine\")\n",
        "\n",
        "\n"
      ]
    },
    {
      "cell_type": "markdown",
      "metadata": {
        "id": "1H2ZEwpz58hG"
      },
      "source": [
        "## Encapsulation"
      ]
    },
    {
      "cell_type": "markdown",
      "metadata": {
        "id": "EtvVqmE558hG"
      },
      "source": [
        "Encapsulation involves bundling the data (attributes) and the methods (functions) that operate on the data into a class. Encapsulation also involves restricting direct access to some of an object's components, which is a means of preventing unintended interference and misuse of the data."
      ]
    },
    {
      "cell_type": "markdown",
      "metadata": {
        "id": "5pDfVbi458hG"
      },
      "source": [
        "**Access Modifiers:**\n",
        "\n",
        "- **Public:** accessible from outside\n",
        "\n",
        "- **Protected:** (prefix: single underscore `_`) accessible within the class and its subclasses.\n",
        "\n",
        "- **Private:** (prefix: double underscore `__`) accessible within the class."
      ]
    },
    {
      "cell_type": "code",
      "execution_count": null,
      "metadata": {
        "id": "vADob8oj58hG",
        "outputId": "5f5824eb-2066-4c65-fa9c-9308ce737f2f"
      },
      "outputs": [
        {
          "name": "stdout",
          "output_type": "stream",
          "text": [
            "Sandesh Bashyal\n",
            "50000\n",
            "'Employee' object has no attribute '__id'\n",
            "1234\n",
            "This is a protected method\n",
            "'Employee' object has no attribute '__private_method'\n",
            "This is a private method\n",
            "This is a private method\n"
          ]
        }
      ],
      "source": [
        "class Employee:\n",
        "    def __init__(self, name, salary):\n",
        "        self.name = name              # Public attribute\n",
        "        self._salary = salary         # Protected attribute; Accessing them is not recommended\n",
        "        self.__id = 1234              # Private attribute\n",
        "\n",
        "    def get_details(self):\n",
        "        return f\"Name: {self.name}, Salary: {self._salary}\"\n",
        "\n",
        "    def _protected_method(self):\n",
        "        print(\"This is a protected method\")\n",
        "\n",
        "    def __private_method(self):\n",
        "        print(\"This is a private method\")\n",
        "\n",
        "    def access_private_method(self):\n",
        "        self.__private_method()\n",
        "\n",
        "# Creating an instance of the Employee class\n",
        "emp = Employee(\"Sandesh Bashyal\", 50000)\n",
        "\n",
        "# Accessing public attribute\n",
        "print(emp.name)\n",
        "\n",
        "# Accessing protected attribute\n",
        "print(emp._salary)\n",
        "\n",
        "# Accessing private attribute (will raise an AttributeError)\n",
        "try:\n",
        "    print(emp.__id)\n",
        "except AttributeError as e:\n",
        "    print(e)\n",
        "\n",
        "# Accessing private attribute using name mangling\n",
        "print(emp._Employee__id)\n",
        "\n",
        "# Accessing protected method\n",
        "emp._protected_method()\n",
        "\n",
        "# Accessing private method directly (will raise an AttributeError)\n",
        "try:\n",
        "    emp.__private_method()\n",
        "except AttributeError as e:\n",
        "    print(e)\n",
        "\n",
        "# Accessing private method using name mangling\n",
        "emp._Employee__private_method()\n",
        "\n",
        "# Accessing private method via a public method\n",
        "emp.access_private_method()"
      ]
    },
    {
      "cell_type": "markdown",
      "metadata": {
        "id": "H9NMGPXn58hG"
      },
      "source": [
        "**Name mangling** is a technique used in Python to provide a limited form of protection for class members, such as private attributes and methods.\n",
        "\n",
        "How to access private methods and private attributes?\n",
        "\n",
        "==>`_ClassName__AttributeName`"
      ]
    },
    {
      "cell_type": "markdown",
      "metadata": {
        "id": "FHA-QISh58hG"
      },
      "source": [
        "## Inheritance"
      ]
    },
    {
      "cell_type": "markdown",
      "metadata": {
        "id": "gLe7yKae58hG"
      },
      "source": [
        "A class (subclass or derived class) can inherit attributes and behaviors (methods) from another class (superclass or base class). This concept is known as Inheritance.\n",
        "\n",
        "Types:\n",
        "\n",
        "- Single Inheritance\n",
        "\n",
        "- Multiple Inheritance\n",
        "\n",
        "- Multilevel Inheritance\n",
        "\n",
        "- Hierarchial Inheritance\n",
        "\n",
        "- Hybrid Inheritance"
      ]
    },
    {
      "cell_type": "markdown",
      "metadata": {
        "id": "1Ib-hanK58hH"
      },
      "source": [
        "### Single Inheritance\n",
        "Single inheritance involves one subclass inheriting from one superclass."
      ]
    },
    {
      "cell_type": "code",
      "execution_count": null,
      "metadata": {
        "id": "LrsBhncx58hH"
      },
      "outputs": [],
      "source": [
        "# Parent class (Superclass)\n",
        "class Animal:\n",
        "    def __init__(self, name, age):\n",
        "        self.name = name\n",
        "        self.age = age\n",
        "\n",
        "    def description(self):\n",
        "        return f\"{self.name} is {self.age} years old\"\n",
        "\n",
        "    def eat(self):\n",
        "        return f\"{self.name} is eating\"\n",
        "\n",
        "# Child class (Subclass) inheriting from Animal\n",
        "class Dog(Animal):\n",
        "    def __init__(self, name, age, breed):\n",
        "        super().__init__(name, age)\n",
        "        self.breed = breed\n",
        "\n",
        "    def bark(self):\n",
        "        return f\"{self.name} says Woof!\"\n",
        "\n",
        "    def fetch(self):\n",
        "        return f\"{self.name} is fetching\"\n",
        "\n",
        "# Usage:\n",
        "dog = Dog(\"Puppy\", 4, \"Bhusiya\")\n",
        "print(dog.description())\n",
        "print(dog.eat())\n",
        "print(dog.bark())\n",
        "print(dog.fetch())\n",
        "print(f\"{dog.name} is {dog.age} years old and is a {dog.breed}\")"
      ]
    },
    {
      "cell_type": "markdown",
      "metadata": {
        "id": "RWTnw6Re58hH"
      },
      "source": [
        "### Multiple Inheritance\n",
        "\n",
        "It allows a subclass to inherit from multiple base classes."
      ]
    },
    {
      "cell_type": "code",
      "execution_count": 5,
      "metadata": {
        "id": "3KdjhL-D58hH",
        "outputId": "18dba466-92c9-4f80-b8cc-9b2b94bae209",
        "colab": {
          "base_uri": "https://localhost:8080/",
          "height": 341
        }
      },
      "outputs": [
        {
          "output_type": "error",
          "ename": "TypeError",
          "evalue": "super() argument 1 must be type, not Dog",
          "traceback": [
            "\u001b[0;31m---------------------------------------------------------------------------\u001b[0m",
            "\u001b[0;31mTypeError\u001b[0m                                 Traceback (most recent call last)",
            "\u001b[0;32m<ipython-input-5-200f99901992>\u001b[0m in \u001b[0;36m<cell line: 28>\u001b[0;34m()\u001b[0m\n\u001b[1;32m     26\u001b[0m \u001b[0;34m\u001b[0m\u001b[0m\n\u001b[1;32m     27\u001b[0m \u001b[0;31m# Usage:\u001b[0m\u001b[0;34m\u001b[0m\u001b[0;34m\u001b[0m\u001b[0m\n\u001b[0;32m---> 28\u001b[0;31m \u001b[0mdog\u001b[0m \u001b[0;34m=\u001b[0m \u001b[0mDog\u001b[0m\u001b[0;34m(\u001b[0m\u001b[0;34m\"Puppy\"\u001b[0m\u001b[0;34m,\u001b[0m \u001b[0;36m4\u001b[0m\u001b[0;34m,\u001b[0m \u001b[0;34m\"Bhusiya\"\u001b[0m\u001b[0;34m)\u001b[0m\u001b[0;34m\u001b[0m\u001b[0;34m\u001b[0m\u001b[0m\n\u001b[0m\u001b[1;32m     29\u001b[0m \u001b[0mprint\u001b[0m\u001b[0;34m(\u001b[0m\u001b[0mdog\u001b[0m\u001b[0;34m.\u001b[0m\u001b[0mspeak\u001b[0m\u001b[0;34m(\u001b[0m\u001b[0;34m)\u001b[0m\u001b[0;34m)\u001b[0m\u001b[0;34m\u001b[0m\u001b[0;34m\u001b[0m\u001b[0m\n\u001b[1;32m     30\u001b[0m \u001b[0mprint\u001b[0m\u001b[0;34m(\u001b[0m\u001b[0mdog\u001b[0m\u001b[0;34m.\u001b[0m\u001b[0meat\u001b[0m\u001b[0;34m(\u001b[0m\u001b[0;34m)\u001b[0m\u001b[0;34m)\u001b[0m\u001b[0;34m\u001b[0m\u001b[0;34m\u001b[0m\u001b[0m\n",
            "\u001b[0;32m<ipython-input-5-200f99901992>\u001b[0m in \u001b[0;36m__init__\u001b[0;34m(self, name, age, breed)\u001b[0m\n\u001b[1;32m     19\u001b[0m     \u001b[0;32mdef\u001b[0m \u001b[0m__init__\u001b[0m\u001b[0;34m(\u001b[0m\u001b[0mself\u001b[0m\u001b[0;34m,\u001b[0m \u001b[0mname\u001b[0m\u001b[0;34m,\u001b[0m \u001b[0mage\u001b[0m\u001b[0;34m,\u001b[0m \u001b[0mbreed\u001b[0m\u001b[0;34m)\u001b[0m\u001b[0;34m:\u001b[0m\u001b[0;34m\u001b[0m\u001b[0;34m\u001b[0m\u001b[0m\n\u001b[1;32m     20\u001b[0m         \u001b[0mAnimal\u001b[0m\u001b[0;34m.\u001b[0m\u001b[0m__init__\u001b[0m\u001b[0;34m(\u001b[0m\u001b[0mself\u001b[0m\u001b[0;34m,\u001b[0m \u001b[0mname\u001b[0m\u001b[0;34m)\u001b[0m\u001b[0;34m\u001b[0m\u001b[0;34m\u001b[0m\u001b[0m\n\u001b[0;32m---> 21\u001b[0;31m         \u001b[0msuper\u001b[0m\u001b[0;34m(\u001b[0m\u001b[0mMammal\u001b[0m\u001b[0;34m)\u001b[0m\u001b[0;34m.\u001b[0m\u001b[0m__init__\u001b[0m\u001b[0;34m(\u001b[0m\u001b[0mself\u001b[0m\u001b[0;34m,\u001b[0m \u001b[0mage\u001b[0m\u001b[0;34m)\u001b[0m\u001b[0;34m\u001b[0m\u001b[0;34m\u001b[0m\u001b[0m\n\u001b[0m\u001b[1;32m     22\u001b[0m         \u001b[0mself\u001b[0m\u001b[0;34m.\u001b[0m\u001b[0mbreed\u001b[0m \u001b[0;34m=\u001b[0m \u001b[0mbreed\u001b[0m\u001b[0;34m\u001b[0m\u001b[0;34m\u001b[0m\u001b[0m\n\u001b[1;32m     23\u001b[0m \u001b[0;34m\u001b[0m\u001b[0m\n",
            "\u001b[0;31mTypeError\u001b[0m: super() argument 1 must be type, not Dog"
          ]
        }
      ],
      "source": [
        "# First parent class\n",
        "class Animal:\n",
        "    def __init__(self, name):\n",
        "        self.name = name\n",
        "\n",
        "    def speak(self):\n",
        "        return f\"{self.name} is speaking\"\n",
        "\n",
        "# Second parent class\n",
        "class Mammal:\n",
        "    def __init__(self, age):\n",
        "        self.age = age\n",
        "\n",
        "    def eat(self):\n",
        "        return f\"Mammal is eating\"\n",
        "\n",
        "# Child class inheriting from Animal and Mammal\n",
        "class Dog(Animal, Mammal):\n",
        "    def __init__(self, name, age, breed):\n",
        "        Animal.__init__(self, name)\n",
        "        super(Mammal).__init__(self, age)\n",
        "        self.breed = breed\n",
        "\n",
        "    def bark(self):\n",
        "        return f\"{self.name} says Woof!\"\n",
        "\n",
        "# Usage:\n",
        "dog = Dog(\"Puppy\", 4, \"Bhusiya\")\n",
        "print(dog.speak())\n",
        "print(dog.eat())\n",
        "print(dog.bark())\n",
        "print(f\"{dog.name} is {dog.age} years old and is a {dog.breed}\")"
      ]
    },
    {
      "cell_type": "markdown",
      "metadata": {
        "id": "h7mPwCXS58hH"
      },
      "source": [
        "### Multilevel Inheritance\n",
        "\n",
        "Multilevel inheritance involves a subclass inheriting from another subclass. This forms a chain of inheritance where each subclass inherits from its superclass."
      ]
    },
    {
      "cell_type": "code",
      "execution_count": null,
      "metadata": {
        "id": "mJSqFCS-58hH"
      },
      "outputs": [],
      "source": [
        "# Grandparent class\n",
        "class Animal:\n",
        "    def __init__(self, name):\n",
        "        self.name = name\n",
        "\n",
        "    def speak(self):\n",
        "        raise NotImplementedError(\"Subclass must implement abstract method\")\n",
        "\n",
        "# Parent class inheriting from Animal\n",
        "class Dog(Animal):\n",
        "    def speak(self):\n",
        "        return f\"{self.name} says Woof!\"\n",
        "\n",
        "# Child class inheriting from Dog\n",
        "class Puppy(Dog):\n",
        "    def fetch(self):\n",
        "        return f\"{self.name} is fetching\"\n",
        "\n",
        "# Usage:\n",
        "puppy = Puppy(\"Max\")\n",
        "print(puppy.speak())\n",
        "print(puppy.fetch())"
      ]
    },
    {
      "cell_type": "markdown",
      "metadata": {
        "id": "VqKgZ69P58hH"
      },
      "source": [
        "### Hierarchial Inheritance\n",
        "\n",
        "Hierarchical inheritance involves multiple subclasses inheriting from a single superclass. Each subclass shares the common behavior and attributes defined in the superclass."
      ]
    },
    {
      "cell_type": "code",
      "execution_count": 7,
      "metadata": {
        "id": "sI5ESbRu58hH",
        "outputId": "9c32a3fc-1a11-41b1-c7d3-4a297f78c814",
        "colab": {
          "base_uri": "https://localhost:8080/"
        }
      },
      "outputs": [
        {
          "output_type": "stream",
          "name": "stdout",
          "text": [
            "Puppy says Woof!\n",
            "Neko says Meow!\n"
          ]
        }
      ],
      "source": [
        "# Superclass\n",
        "class Animal:\n",
        "    def __init__(self, name):\n",
        "        self.name = name\n",
        "\n",
        "    def speak(self):\n",
        "        raise NotImplementedError(\"Subclass must implement abstract method\")\n",
        "\n",
        "# Subclass 1 inheriting from Animal\n",
        "class Dog(Animal):\n",
        "    def speak(self):            # common behavior and attributes\n",
        "        return f\"{self.name} says Woof!\"\n",
        "\n",
        "# Subclass 2 inheriting from Animal\n",
        "class Cat(Animal):\n",
        "    def speak(self):            # common behavior and attributes\n",
        "        return f\"{self.name} says Meow!\"\n",
        "\n",
        "# Usage:\n",
        "dog = Dog(\"Puppy\")\n",
        "cat = Cat(\"Neko\")\n",
        "print(dog.speak())\n",
        "print(cat.speak())"
      ]
    },
    {
      "cell_type": "markdown",
      "metadata": {
        "id": "j7IBG5HC58hI"
      },
      "source": [
        "### Hybrid Inheritance\n",
        "\n",
        "Hybrid inheritance is a combination of two or more types of inheritance. For example, combining multiple inheritance and multilevel inheritance."
      ]
    },
    {
      "cell_type": "code",
      "execution_count": 10,
      "metadata": {
        "id": "1Bh3Avec58hI",
        "outputId": "1fbf4ec5-1fe8-435f-b21d-44acf5f3ea61",
        "colab": {
          "base_uri": "https://localhost:8080/"
        }
      },
      "outputs": [
        {
          "output_type": "stream",
          "name": "stdout",
          "text": [
            "Fuchhe says Woof!\n",
            "Fuchhe feeds milk\n",
            "Fuchhe is fetching\n"
          ]
        }
      ],
      "source": [
        "# Superclass 1\n",
        "class Animal:\n",
        "    def __init__(self, name):\n",
        "        self.name = name\n",
        "\n",
        "    def speak(self):\n",
        "        raise NotImplementedError(\"Subclass must implement abstract method\")\n",
        "\n",
        "# Superclass 2\n",
        "class Mammal:\n",
        "    def feed_milk(self):\n",
        "        return f\"{self.name} feeds milk\"\n",
        "\n",
        "# Subclass inheriting from Animal and Mammal\n",
        "class Dog(Animal, Mammal):\n",
        "    def speak(self):\n",
        "        return f\"{self.name} says Woof!\"\n",
        "\n",
        "# Subclass inheriting from Dog\n",
        "class Puppy(Dog):\n",
        "    def fetch(self):\n",
        "        return f\"{self.name} is fetching\"\n",
        "\n",
        "# Usage:\n",
        "puppy = Puppy(\"Fuchhe\")\n",
        "print(puppy.speak())\n",
        "print(puppy.feed_milk())\n",
        "print(puppy.fetch())"
      ]
    },
    {
      "cell_type": "code",
      "source": [],
      "metadata": {
        "id": "_4bN6VNLHuSk"
      },
      "execution_count": null,
      "outputs": []
    }
  ],
  "metadata": {
    "kernelspec": {
      "display_name": ".venv",
      "language": "python",
      "name": "python3"
    },
    "language_info": {
      "codemirror_mode": {
        "name": "ipython",
        "version": 3
      },
      "file_extension": ".py",
      "mimetype": "text/x-python",
      "name": "python",
      "nbconvert_exporter": "python",
      "pygments_lexer": "ipython3",
      "version": "3.12.3"
    },
    "colab": {
      "provenance": [],
      "include_colab_link": true
    }
  },
  "nbformat": 4,
  "nbformat_minor": 0
}